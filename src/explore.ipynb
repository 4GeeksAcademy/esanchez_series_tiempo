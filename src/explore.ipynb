{
    "cells": [
        {
            "cell_type": "markdown",
            "metadata": {},
            "source": [
                "# Explore here"
            ]
        },
        {
            "cell_type": "code",
            "execution_count": 59,
            "metadata": {},
            "outputs": [],
            "source": [
                "# Your code here\n",
                "import pandas as pd\n",
                "from collections import Counter\n",
                "import matplotlib.pyplot as plt\n",
                "import numpy as np\n",
                "import statsmodels.api as sm\n",
                "from sklearn.linear_model import OrthogonalMatchingPursuit\n",
                "from sklearn.metrics import *\n",
                "from prophet import Prophet\n",
                "from sklearn.multioutput import MultiOutputRegressor, RegressorChain\n",
                "from statsmodels.tsa.stattools import adfuller\n",
                "from statsmodels.tsa.arima.model import ARIMA"
            ]
        },
        {
            "cell_type": "code",
            "execution_count": 60,
            "metadata": {},
            "outputs": [
                {
                    "data": {
                        "text/html": [
                            "<div>\n",
                            "<style scoped>\n",
                            "    .dataframe tbody tr th:only-of-type {\n",
                            "        vertical-align: middle;\n",
                            "    }\n",
                            "\n",
                            "    .dataframe tbody tr th {\n",
                            "        vertical-align: top;\n",
                            "    }\n",
                            "\n",
                            "    .dataframe thead th {\n",
                            "        text-align: right;\n",
                            "    }\n",
                            "</style>\n",
                            "<table border=\"1\" class=\"dataframe\">\n",
                            "  <thead>\n",
                            "    <tr style=\"text-align: right;\">\n",
                            "      <th></th>\n",
                            "      <th>date</th>\n",
                            "      <th>sales</th>\n",
                            "    </tr>\n",
                            "  </thead>\n",
                            "  <tbody>\n",
                            "    <tr>\n",
                            "      <th>0</th>\n",
                            "      <td>2022-09-03 17:10:08.079328</td>\n",
                            "      <td>55.292157</td>\n",
                            "    </tr>\n",
                            "    <tr>\n",
                            "      <th>1</th>\n",
                            "      <td>2022-09-04 17:10:08.079328</td>\n",
                            "      <td>53.803211</td>\n",
                            "    </tr>\n",
                            "    <tr>\n",
                            "      <th>2</th>\n",
                            "      <td>2022-09-05 17:10:08.079328</td>\n",
                            "      <td>58.141693</td>\n",
                            "    </tr>\n",
                            "    <tr>\n",
                            "      <th>3</th>\n",
                            "      <td>2022-09-06 17:10:08.079328</td>\n",
                            "      <td>64.530899</td>\n",
                            "    </tr>\n",
                            "    <tr>\n",
                            "      <th>4</th>\n",
                            "      <td>2022-09-07 17:10:08.079328</td>\n",
                            "      <td>66.013633</td>\n",
                            "    </tr>\n",
                            "  </tbody>\n",
                            "</table>\n",
                            "</div>"
                        ],
                        "text/plain": [
                            "                         date      sales\n",
                            "0  2022-09-03 17:10:08.079328  55.292157\n",
                            "1  2022-09-04 17:10:08.079328  53.803211\n",
                            "2  2022-09-05 17:10:08.079328  58.141693\n",
                            "3  2022-09-06 17:10:08.079328  64.530899\n",
                            "4  2022-09-07 17:10:08.079328  66.013633"
                        ]
                    },
                    "execution_count": 60,
                    "metadata": {},
                    "output_type": "execute_result"
                }
            ],
            "source": [
                "df = pd.read_csv('../data/raw/sales.csv', sep=',')\n",
                "df.head()"
            ]
        },
        {
            "cell_type": "code",
            "execution_count": 61,
            "metadata": {},
            "outputs": [
                {
                    "data": {
                        "text/html": [
                            "<div>\n",
                            "<style scoped>\n",
                            "    .dataframe tbody tr th:only-of-type {\n",
                            "        vertical-align: middle;\n",
                            "    }\n",
                            "\n",
                            "    .dataframe tbody tr th {\n",
                            "        vertical-align: top;\n",
                            "    }\n",
                            "\n",
                            "    .dataframe thead th {\n",
                            "        text-align: right;\n",
                            "    }\n",
                            "</style>\n",
                            "<table border=\"1\" class=\"dataframe\">\n",
                            "  <thead>\n",
                            "    <tr style=\"text-align: right;\">\n",
                            "      <th></th>\n",
                            "      <th>date</th>\n",
                            "      <th>sales</th>\n",
                            "    </tr>\n",
                            "  </thead>\n",
                            "  <tbody>\n",
                            "    <tr>\n",
                            "      <th>0</th>\n",
                            "      <td>2022-09-03 17:10:08.079328</td>\n",
                            "      <td>55.292157</td>\n",
                            "    </tr>\n",
                            "    <tr>\n",
                            "      <th>1</th>\n",
                            "      <td>2022-09-04 17:10:08.079328</td>\n",
                            "      <td>53.803211</td>\n",
                            "    </tr>\n",
                            "    <tr>\n",
                            "      <th>2</th>\n",
                            "      <td>2022-09-05 17:10:08.079328</td>\n",
                            "      <td>58.141693</td>\n",
                            "    </tr>\n",
                            "    <tr>\n",
                            "      <th>3</th>\n",
                            "      <td>2022-09-06 17:10:08.079328</td>\n",
                            "      <td>64.530899</td>\n",
                            "    </tr>\n",
                            "    <tr>\n",
                            "      <th>4</th>\n",
                            "      <td>2022-09-07 17:10:08.079328</td>\n",
                            "      <td>66.013633</td>\n",
                            "    </tr>\n",
                            "    <tr>\n",
                            "      <th>...</th>\n",
                            "      <td>...</td>\n",
                            "      <td>...</td>\n",
                            "    </tr>\n",
                            "    <tr>\n",
                            "      <th>361</th>\n",
                            "      <td>2023-08-30 17:10:08.079328</td>\n",
                            "      <td>989.600354</td>\n",
                            "    </tr>\n",
                            "    <tr>\n",
                            "      <th>362</th>\n",
                            "      <td>2023-08-31 17:10:08.079328</td>\n",
                            "      <td>994.987326</td>\n",
                            "    </tr>\n",
                            "    <tr>\n",
                            "      <th>363</th>\n",
                            "      <td>2023-09-01 17:10:08.079328</td>\n",
                            "      <td>995.814415</td>\n",
                            "    </tr>\n",
                            "    <tr>\n",
                            "      <th>364</th>\n",
                            "      <td>2023-09-02 17:10:08.079328</td>\n",
                            "      <td>997.350214</td>\n",
                            "    </tr>\n",
                            "    <tr>\n",
                            "      <th>365</th>\n",
                            "      <td>2023-09-03 17:10:08.079328</td>\n",
                            "      <td>1000.482785</td>\n",
                            "    </tr>\n",
                            "  </tbody>\n",
                            "</table>\n",
                            "<p>366 rows × 2 columns</p>\n",
                            "</div>"
                        ],
                        "text/plain": [
                            "                           date        sales\n",
                            "0    2022-09-03 17:10:08.079328    55.292157\n",
                            "1    2022-09-04 17:10:08.079328    53.803211\n",
                            "2    2022-09-05 17:10:08.079328    58.141693\n",
                            "3    2022-09-06 17:10:08.079328    64.530899\n",
                            "4    2022-09-07 17:10:08.079328    66.013633\n",
                            "..                          ...          ...\n",
                            "361  2023-08-30 17:10:08.079328   989.600354\n",
                            "362  2023-08-31 17:10:08.079328   994.987326\n",
                            "363  2023-09-01 17:10:08.079328   995.814415\n",
                            "364  2023-09-02 17:10:08.079328   997.350214\n",
                            "365  2023-09-03 17:10:08.079328  1000.482785\n",
                            "\n",
                            "[366 rows x 2 columns]"
                        ]
                    },
                    "execution_count": 61,
                    "metadata": {},
                    "output_type": "execute_result"
                }
            ],
            "source": [
                "df"
            ]
        },
        {
            "cell_type": "code",
            "execution_count": 62,
            "metadata": {},
            "outputs": [
                {
                    "data": {
                        "text/plain": [
                            "(366, 2)"
                        ]
                    },
                    "execution_count": 62,
                    "metadata": {},
                    "output_type": "execute_result"
                }
            ],
            "source": [
                "df.shape"
            ]
        },
        {
            "cell_type": "code",
            "execution_count": 63,
            "metadata": {},
            "outputs": [
                {
                    "data": {
                        "text/plain": [
                            "date      object\n",
                            "sales    float64\n",
                            "dtype: object"
                        ]
                    },
                    "execution_count": 63,
                    "metadata": {},
                    "output_type": "execute_result"
                }
            ],
            "source": [
                "#miramos los tipos de datos y vemos que hay que cambiar a date la fecha porque es un object\n",
                "df.dtypes"
            ]
        },
        {
            "cell_type": "code",
            "execution_count": 64,
            "metadata": {},
            "outputs": [
                {
                    "data": {
                        "text/plain": [
                            "date     0.0\n",
                            "sales    0.0\n",
                            "dtype: float64"
                        ]
                    },
                    "execution_count": 64,
                    "metadata": {},
                    "output_type": "execute_result"
                }
            ],
            "source": [
                "#vemos si hay valores nulos\n",
                "df.isna().mean()*100"
            ]
        },
        {
            "cell_type": "code",
            "execution_count": 65,
            "metadata": {},
            "outputs": [
                {
                    "data": {
                        "text/plain": [
                            "np.int64(0)"
                        ]
                    },
                    "execution_count": 65,
                    "metadata": {},
                    "output_type": "execute_result"
                }
            ],
            "source": [
                "#vemos si hay duplicados\n",
                "df.duplicated().sum()"
            ]
        },
        {
            "cell_type": "code",
            "execution_count": 66,
            "metadata": {},
            "outputs": [
                {
                    "data": {
                        "text/plain": [
                            "date     366\n",
                            "sales    366\n",
                            "dtype: int64"
                        ]
                    },
                    "execution_count": 66,
                    "metadata": {},
                    "output_type": "execute_result"
                }
            ],
            "source": [
                "df.nunique()"
            ]
        },
        {
            "cell_type": "code",
            "execution_count": 67,
            "metadata": {},
            "outputs": [
                {
                    "data": {
                        "text/plain": [
                            "date     datetime64[ns]\n",
                            "sales           float64\n",
                            "dtype: object"
                        ]
                    },
                    "execution_count": 67,
                    "metadata": {},
                    "output_type": "execute_result"
                }
            ],
            "source": [
                "#pasamos a datetime la columna de date\n",
                "df['date'] = pd.to_datetime(df['date'])\n",
                "df.dtypes"
            ]
        },
        {
            "cell_type": "code",
            "execution_count": 68,
            "metadata": {},
            "outputs": [
                {
                    "data": {
                        "text/html": [
                            "<div>\n",
                            "<style scoped>\n",
                            "    .dataframe tbody tr th:only-of-type {\n",
                            "        vertical-align: middle;\n",
                            "    }\n",
                            "\n",
                            "    .dataframe tbody tr th {\n",
                            "        vertical-align: top;\n",
                            "    }\n",
                            "\n",
                            "    .dataframe thead th {\n",
                            "        text-align: right;\n",
                            "    }\n",
                            "</style>\n",
                            "<table border=\"1\" class=\"dataframe\">\n",
                            "  <thead>\n",
                            "    <tr style=\"text-align: right;\">\n",
                            "      <th></th>\n",
                            "      <th>date</th>\n",
                            "      <th>sales</th>\n",
                            "    </tr>\n",
                            "  </thead>\n",
                            "  <tbody>\n",
                            "    <tr>\n",
                            "      <th>0</th>\n",
                            "      <td>2022-09-03 17:10:08.079328</td>\n",
                            "      <td>55.292157</td>\n",
                            "    </tr>\n",
                            "    <tr>\n",
                            "      <th>1</th>\n",
                            "      <td>2022-09-04 17:10:08.079328</td>\n",
                            "      <td>53.803211</td>\n",
                            "    </tr>\n",
                            "    <tr>\n",
                            "      <th>2</th>\n",
                            "      <td>2022-09-05 17:10:08.079328</td>\n",
                            "      <td>58.141693</td>\n",
                            "    </tr>\n",
                            "    <tr>\n",
                            "      <th>3</th>\n",
                            "      <td>2022-09-06 17:10:08.079328</td>\n",
                            "      <td>64.530899</td>\n",
                            "    </tr>\n",
                            "    <tr>\n",
                            "      <th>4</th>\n",
                            "      <td>2022-09-07 17:10:08.079328</td>\n",
                            "      <td>66.013633</td>\n",
                            "    </tr>\n",
                            "  </tbody>\n",
                            "</table>\n",
                            "</div>"
                        ],
                        "text/plain": [
                            "                        date      sales\n",
                            "0 2022-09-03 17:10:08.079328  55.292157\n",
                            "1 2022-09-04 17:10:08.079328  53.803211\n",
                            "2 2022-09-05 17:10:08.079328  58.141693\n",
                            "3 2022-09-06 17:10:08.079328  64.530899\n",
                            "4 2022-09-07 17:10:08.079328  66.013633"
                        ]
                    },
                    "execution_count": 68,
                    "metadata": {},
                    "output_type": "execute_result"
                }
            ],
            "source": [
                "df.head()"
            ]
        },
        {
            "cell_type": "code",
            "execution_count": 69,
            "metadata": {},
            "outputs": [
                {
                    "data": {
                        "text/html": [
                            "<div>\n",
                            "<style scoped>\n",
                            "    .dataframe tbody tr th:only-of-type {\n",
                            "        vertical-align: middle;\n",
                            "    }\n",
                            "\n",
                            "    .dataframe tbody tr th {\n",
                            "        vertical-align: top;\n",
                            "    }\n",
                            "\n",
                            "    .dataframe thead th {\n",
                            "        text-align: right;\n",
                            "    }\n",
                            "</style>\n",
                            "<table border=\"1\" class=\"dataframe\">\n",
                            "  <thead>\n",
                            "    <tr style=\"text-align: right;\">\n",
                            "      <th></th>\n",
                            "      <th>date</th>\n",
                            "      <th>sales</th>\n",
                            "    </tr>\n",
                            "  </thead>\n",
                            "  <tbody>\n",
                            "    <tr>\n",
                            "      <th>0</th>\n",
                            "      <td>2022-09-03</td>\n",
                            "      <td>55.292157</td>\n",
                            "    </tr>\n",
                            "    <tr>\n",
                            "      <th>1</th>\n",
                            "      <td>2022-09-04</td>\n",
                            "      <td>53.803211</td>\n",
                            "    </tr>\n",
                            "    <tr>\n",
                            "      <th>2</th>\n",
                            "      <td>2022-09-05</td>\n",
                            "      <td>58.141693</td>\n",
                            "    </tr>\n",
                            "    <tr>\n",
                            "      <th>3</th>\n",
                            "      <td>2022-09-06</td>\n",
                            "      <td>64.530899</td>\n",
                            "    </tr>\n",
                            "    <tr>\n",
                            "      <th>4</th>\n",
                            "      <td>2022-09-07</td>\n",
                            "      <td>66.013633</td>\n",
                            "    </tr>\n",
                            "  </tbody>\n",
                            "</table>\n",
                            "</div>"
                        ],
                        "text/plain": [
                            "         date      sales\n",
                            "0  2022-09-03  55.292157\n",
                            "1  2022-09-04  53.803211\n",
                            "2  2022-09-05  58.141693\n",
                            "3  2022-09-06  64.530899\n",
                            "4  2022-09-07  66.013633"
                        ]
                    },
                    "execution_count": 69,
                    "metadata": {},
                    "output_type": "execute_result"
                }
            ],
            "source": [
                "#las horas son las mismas, suponemos que es la hora de cierre asi que solo nos interesa la fecha y no la hora\n",
                "df['date'] = df['date'].dt.date\n",
                "df.head()"
            ]
        },
        {
            "cell_type": "code",
            "execution_count": 70,
            "metadata": {},
            "outputs": [
                {
                    "data": {
                        "text/plain": [
                            "date     0\n",
                            "sales    0\n",
                            "dtype: int64"
                        ]
                    },
                    "execution_count": 70,
                    "metadata": {},
                    "output_type": "execute_result"
                }
            ],
            "source": [
                "df.isnull().sum()"
            ]
        },
        {
            "cell_type": "code",
            "execution_count": 71,
            "metadata": {},
            "outputs": [
                {
                    "data": {
                        "text/plain": [
                            "datetime.date(2022, 9, 3)"
                        ]
                    },
                    "execution_count": 71,
                    "metadata": {},
                    "output_type": "execute_result"
                }
            ],
            "source": [
                "df['date'].min()"
            ]
        },
        {
            "cell_type": "code",
            "execution_count": 72,
            "metadata": {},
            "outputs": [
                {
                    "data": {
                        "text/plain": [
                            "datetime.date(2023, 9, 3)"
                        ]
                    },
                    "execution_count": 72,
                    "metadata": {},
                    "output_type": "execute_result"
                }
            ],
            "source": [
                "df['date'].max()"
            ]
        },
        {
            "cell_type": "code",
            "execution_count": 73,
            "metadata": {},
            "outputs": [
                {
                    "data": {
                        "text/plain": [
                            "365"
                        ]
                    },
                    "execution_count": 73,
                    "metadata": {},
                    "output_type": "execute_result"
                }
            ],
            "source": [
                "#miramos los difernetes que dias que hay\n",
                "(df['date'].max() - df['date'].min()).days"
            ]
        },
        {
            "cell_type": "markdown",
            "metadata": {},
            "source": [
                "El tensor de la serie temporal es de 1 días porque se comprime en un año y salen 365 días"
            ]
        },
        {
            "cell_type": "code",
            "execution_count": 74,
            "metadata": {},
            "outputs": [
                {
                    "data": {
                        "text/plain": [
                            "Counter()"
                        ]
                    },
                    "execution_count": 74,
                    "metadata": {},
                    "output_type": "execute_result"
                }
            ],
            "source": [
                "#hacemos una lista para ver donde faltan precios\n",
                "Counter(df[df['date'].isnull()]['sales'].apply(lambda x: x.year))"
            ]
        },
        {
            "cell_type": "code",
            "execution_count": 75,
            "metadata": {},
            "outputs": [
                {
                    "data": {
                        "image/png": "[encoded data removed]",
                        "text/plain": [
                            "<Figure size 640x480 with 1 Axes>"
                        ]
                    },
                    "metadata": {},
                    "output_type": "display_data"
                }
            ],
            "source": [
                "df_aux = df\n",
                "plt.plot(df_aux['date'], df_aux['sales'])\n",
                "plt.xlabel('Fechas')\n",
                "plt.ylabel('Precio')\n",
                "plt.title('Evolución histórica del precio a lo largo del tiempo')\n",
                "plt.show()"
            ]
        },
        {
            "cell_type": "markdown",
            "metadata": {},
            "source": [
                "La tendencia siempre va al alza. Empieza abajo pero va subiendo"
            ]
        },
        {
            "cell_type": "code",
            "execution_count": 76,
            "metadata": {},
            "outputs": [
                {
                    "name": "stdout",
                    "output_type": "stream",
                    "text": [
                        "count     366.000000\n",
                        "mean      524.963968\n",
                        "std       275.089698\n",
                        "min        53.803211\n",
                        "25%       290.186822\n",
                        "50%       520.699468\n",
                        "75%       763.289263\n",
                        "max      1000.482785\n",
                        "Name: sales, dtype: float64\n"
                    ]
                }
            ],
            "source": [
                "desc = df['sales'].describe()\n",
                "print(desc)"
            ]
        },
        {
            "cell_type": "markdown",
            "metadata": {},
            "source": [
                "La desviación estándar comparada con la media es bastante alta. Por tanto, podemos afirmar que existe variabilidad y ruido."
            ]
        },
        {
            "cell_type": "code",
            "execution_count": 77,
            "metadata": {},
            "outputs": [
                {
                    "name": "stdout",
                    "output_type": "stream",
                    "text": [
                        "ADF Statistic: 0.545414\n",
                        "p-value: 0.986190\n",
                        "Número de lags usados: 13\n",
                        "Número de observaciones usadas: 352\n"
                    ]
                }
            ],
            "source": [
                "#Para saber si la serie temporal es estacionaria hacemos el test Dickey-Fuller\n",
                "#Así sabemos si tiene media, varianza y autocorrelación constante en el tiempo\n",
                "result = adfuller(df['sales'])\n",
                "print('ADF Statistic: %f' % result[0])\n",
                "print('p-value: %f' % result[1])\n",
                "print('Número de lags usados: %d' % result[2])\n",
                "print('Número de observaciones usadas: %d' % result[3])"
            ]
        },
        {
            "cell_type": "markdown",
            "metadata": {},
            "source": [
                "Como el p-value es mayor a 0.05 y el ADF no es negativo, la serie no es estacionaria"
            ]
        },
        {
            "cell_type": "code",
            "execution_count": 78,
            "metadata": {},
            "outputs": [
                {
                    "data": {
                        "text/html": [
                            "<div>\n",
                            "<style scoped>\n",
                            "    .dataframe tbody tr th:only-of-type {\n",
                            "        vertical-align: middle;\n",
                            "    }\n",
                            "\n",
                            "    .dataframe tbody tr th {\n",
                            "        vertical-align: top;\n",
                            "    }\n",
                            "\n",
                            "    .dataframe thead th {\n",
                            "        text-align: right;\n",
                            "    }\n",
                            "</style>\n",
                            "<table border=\"1\" class=\"dataframe\">\n",
                            "  <thead>\n",
                            "    <tr style=\"text-align: right;\">\n",
                            "      <th></th>\n",
                            "      <th>sales</th>\n",
                            "    </tr>\n",
                            "    <tr>\n",
                            "      <th>date</th>\n",
                            "      <th></th>\n",
                            "    </tr>\n",
                            "  </thead>\n",
                            "  <tbody>\n",
                            "    <tr>\n",
                            "      <th>2022-09-03</th>\n",
                            "      <td>55.292157</td>\n",
                            "    </tr>\n",
                            "    <tr>\n",
                            "      <th>2022-09-04</th>\n",
                            "      <td>53.803211</td>\n",
                            "    </tr>\n",
                            "    <tr>\n",
                            "      <th>2022-09-05</th>\n",
                            "      <td>58.141693</td>\n",
                            "    </tr>\n",
                            "    <tr>\n",
                            "      <th>2022-09-06</th>\n",
                            "      <td>64.530899</td>\n",
                            "    </tr>\n",
                            "    <tr>\n",
                            "      <th>2022-09-07</th>\n",
                            "      <td>66.013633</td>\n",
                            "    </tr>\n",
                            "  </tbody>\n",
                            "</table>\n",
                            "</div>"
                        ],
                        "text/plain": [
                            "                sales\n",
                            "date                 \n",
                            "2022-09-03  55.292157\n",
                            "2022-09-04  53.803211\n",
                            "2022-09-05  58.141693\n",
                            "2022-09-06  64.530899\n",
                            "2022-09-07  66.013633"
                        ]
                    },
                    "execution_count": 78,
                    "metadata": {},
                    "output_type": "execute_result"
                }
            ],
            "source": [
                "#a la columna date la indicamos ocmo indice\n",
                "df.set_index('date', inplace=True, drop=True)\n",
                "df.head()"
            ]
        },
        {
            "cell_type": "markdown",
            "metadata": {},
            "source": [
                "EL tensor de la serie seria los meses porque este df dolo guardadatosde un año. "
            ]
        },
        {
            "cell_type": "code",
            "execution_count": 120,
            "metadata": {},
            "outputs": [],
            "source": [
                "#train todos los datos menos los últimos 30 días y test los úiltimos 30 días\n",
                "df_train, df_test = df.iloc[:-30], df.iloc[-30:]"
            ]
        },
        {
            "cell_type": "markdown",
            "metadata": {},
            "source": [
                "tengo un problema de compatibilidad e versiones entre numpy y pmdarima, asi que utilizaré ARIMA de stats models"
            ]
        },
        {
            "cell_type": "code",
            "execution_count": 121,
            "metadata": {},
            "outputs": [
                {
                    "data": {
                        "text/html": [
                            "<div>\n",
                            "<style scoped>\n",
                            "    .dataframe tbody tr th:only-of-type {\n",
                            "        vertical-align: middle;\n",
                            "    }\n",
                            "\n",
                            "    .dataframe tbody tr th {\n",
                            "        vertical-align: top;\n",
                            "    }\n",
                            "\n",
                            "    .dataframe thead th {\n",
                            "        text-align: right;\n",
                            "    }\n",
                            "</style>\n",
                            "<table border=\"1\" class=\"dataframe\">\n",
                            "  <thead>\n",
                            "    <tr style=\"text-align: right;\">\n",
                            "      <th></th>\n",
                            "      <th>sales</th>\n",
                            "    </tr>\n",
                            "    <tr>\n",
                            "      <th>date</th>\n",
                            "      <th></th>\n",
                            "    </tr>\n",
                            "  </thead>\n",
                            "  <tbody>\n",
                            "    <tr>\n",
                            "      <th>2023-07-31</th>\n",
                            "      <td>907.940014</td>\n",
                            "    </tr>\n",
                            "    <tr>\n",
                            "      <th>2023-08-01</th>\n",
                            "      <td>916.429348</td>\n",
                            "    </tr>\n",
                            "    <tr>\n",
                            "      <th>2023-08-02</th>\n",
                            "      <td>913.160687</td>\n",
                            "    </tr>\n",
                            "    <tr>\n",
                            "      <th>2023-08-03</th>\n",
                            "      <td>911.337552</td>\n",
                            "    </tr>\n",
                            "    <tr>\n",
                            "      <th>2023-08-04</th>\n",
                            "      <td>923.736767</td>\n",
                            "    </tr>\n",
                            "  </tbody>\n",
                            "</table>\n",
                            "</div>"
                        ],
                        "text/plain": [
                            "                 sales\n",
                            "date                  \n",
                            "2023-07-31  907.940014\n",
                            "2023-08-01  916.429348\n",
                            "2023-08-02  913.160687\n",
                            "2023-08-03  911.337552\n",
                            "2023-08-04  923.736767"
                        ]
                    },
                    "execution_count": 121,
                    "metadata": {},
                    "output_type": "execute_result"
                }
            ],
            "source": [
                "df_train.tail()"
            ]
        },
        {
            "cell_type": "code",
            "execution_count": 122,
            "metadata": {},
            "outputs": [
                {
                    "data": {
                        "text/html": [
                            "<div>\n",
                            "<style scoped>\n",
                            "    .dataframe tbody tr th:only-of-type {\n",
                            "        vertical-align: middle;\n",
                            "    }\n",
                            "\n",
                            "    .dataframe tbody tr th {\n",
                            "        vertical-align: top;\n",
                            "    }\n",
                            "\n",
                            "    .dataframe thead th {\n",
                            "        text-align: right;\n",
                            "    }\n",
                            "</style>\n",
                            "<table border=\"1\" class=\"dataframe\">\n",
                            "  <thead>\n",
                            "    <tr style=\"text-align: right;\">\n",
                            "      <th></th>\n",
                            "      <th>sales</th>\n",
                            "    </tr>\n",
                            "    <tr>\n",
                            "      <th>date</th>\n",
                            "      <th></th>\n",
                            "    </tr>\n",
                            "  </thead>\n",
                            "  <tbody>\n",
                            "    <tr>\n",
                            "      <th>2023-08-05</th>\n",
                            "      <td>919.252876</td>\n",
                            "    </tr>\n",
                            "    <tr>\n",
                            "      <th>2023-08-06</th>\n",
                            "      <td>928.476091</td>\n",
                            "    </tr>\n",
                            "    <tr>\n",
                            "      <th>2023-08-07</th>\n",
                            "      <td>927.673995</td>\n",
                            "    </tr>\n",
                            "    <tr>\n",
                            "      <th>2023-08-08</th>\n",
                            "      <td>937.307420</td>\n",
                            "    </tr>\n",
                            "    <tr>\n",
                            "      <th>2023-08-09</th>\n",
                            "      <td>938.137035</td>\n",
                            "    </tr>\n",
                            "  </tbody>\n",
                            "</table>\n",
                            "</div>"
                        ],
                        "text/plain": [
                            "                 sales\n",
                            "date                  \n",
                            "2023-08-05  919.252876\n",
                            "2023-08-06  928.476091\n",
                            "2023-08-07  927.673995\n",
                            "2023-08-08  937.307420\n",
                            "2023-08-09  938.137035"
                        ]
                    },
                    "execution_count": 122,
                    "metadata": {},
                    "output_type": "execute_result"
                }
            ],
            "source": [
                "df_test.head()"
            ]
        },
        {
            "cell_type": "code",
            "execution_count": 110,
            "metadata": {},
            "outputs": [
                {
                    "name": "stderr",
                    "output_type": "stream",
                    "text": [
                        "/home/vscode/.local/lib/python3.11/site-packages/statsmodels/tsa/base/tsa_model.py:473: ValueWarning: No frequency information was provided, so inferred frequency D will be used.\n",
                        "  self._init_dates(dates, freq)\n",
                        "/home/vscode/.local/lib/python3.11/site-packages/statsmodels/tsa/base/tsa_model.py:473: ValueWarning: No frequency information was provided, so inferred frequency D will be used.\n",
                        "  self._init_dates(dates, freq)\n",
                        "/home/vscode/.local/lib/python3.11/site-packages/statsmodels/tsa/base/tsa_model.py:473: ValueWarning: No frequency information was provided, so inferred frequency D will be used.\n",
                        "  self._init_dates(dates, freq)\n",
                        "/home/vscode/.local/lib/python3.11/site-packages/statsmodels/tsa/base/tsa_model.py:473: ValueWarning: No frequency information was provided, so inferred frequency D will be used.\n",
                        "  self._init_dates(dates, freq)\n",
                        "/home/vscode/.local/lib/python3.11/site-packages/statsmodels/tsa/base/tsa_model.py:473: ValueWarning: No frequency information was provided, so inferred frequency D will be used.\n",
                        "  self._init_dates(dates, freq)\n",
                        "/home/vscode/.local/lib/python3.11/site-packages/statsmodels/tsa/base/tsa_model.py:473: ValueWarning: No frequency information was provided, so inferred frequency D will be used.\n",
                        "  self._init_dates(dates, freq)\n",
                        "/home/vscode/.local/lib/python3.11/site-packages/statsmodels/tsa/base/tsa_model.py:473: ValueWarning: No frequency information was provided, so inferred frequency D will be used.\n",
                        "  self._init_dates(dates, freq)\n",
                        "/home/vscode/.local/lib/python3.11/site-packages/statsmodels/tsa/base/tsa_model.py:473: ValueWarning: No frequency information was provided, so inferred frequency D will be used.\n",
                        "  self._init_dates(dates, freq)\n",
                        "/home/vscode/.local/lib/python3.11/site-packages/statsmodels/tsa/base/tsa_model.py:473: ValueWarning: No frequency information was provided, so inferred frequency D will be used.\n",
                        "  self._init_dates(dates, freq)\n",
                        "/home/vscode/.local/lib/python3.11/site-packages/statsmodels/tsa/base/tsa_model.py:473: ValueWarning: No frequency information was provided, so inferred frequency D will be used.\n",
                        "  self._init_dates(dates, freq)\n",
                        "/home/vscode/.local/lib/python3.11/site-packages/statsmodels/tsa/base/tsa_model.py:473: ValueWarning: No frequency information was provided, so inferred frequency D will be used.\n",
                        "  self._init_dates(dates, freq)\n",
                        "/home/vscode/.local/lib/python3.11/site-packages/statsmodels/tsa/base/tsa_model.py:473: ValueWarning: No frequency information was provided, so inferred frequency D will be used.\n",
                        "  self._init_dates(dates, freq)\n"
                    ]
                },
                {
                    "name": "stdout",
                    "output_type": "stream",
                    "text": [
                        "ARIMA(0, 1, 0) - AIC: 2035.0352595783609\n",
                        "ARIMA(1, 1, 0) - AIC: 2031.2254413789526\n",
                        "ARIMA(0, 1, 1) - AIC: 2033.4417777510164\n"
                    ]
                },
                {
                    "name": "stderr",
                    "output_type": "stream",
                    "text": [
                        "/home/vscode/.local/lib/python3.11/site-packages/statsmodels/base/model.py:607: ConvergenceWarning: Maximum Likelihood optimization failed to converge. Check mle_retvals\n",
                        "  warnings.warn(\"Maximum Likelihood optimization failed to \"\n",
                        "/home/vscode/.local/lib/python3.11/site-packages/statsmodels/tsa/base/tsa_model.py:473: ValueWarning: No frequency information was provided, so inferred frequency D will be used.\n",
                        "  self._init_dates(dates, freq)\n",
                        "/home/vscode/.local/lib/python3.11/site-packages/statsmodels/tsa/base/tsa_model.py:473: ValueWarning: No frequency information was provided, so inferred frequency D will be used.\n",
                        "  self._init_dates(dates, freq)\n",
                        "/home/vscode/.local/lib/python3.11/site-packages/statsmodels/tsa/base/tsa_model.py:473: ValueWarning: No frequency information was provided, so inferred frequency D will be used.\n",
                        "  self._init_dates(dates, freq)\n",
                        "/home/vscode/.local/lib/python3.11/site-packages/statsmodels/tsa/statespace/sarimax.py:966: UserWarning: Non-stationary starting autoregressive parameters found. Using zeros as starting parameters.\n",
                        "  warn('Non-stationary starting autoregressive parameters'\n",
                        "/home/vscode/.local/lib/python3.11/site-packages/statsmodels/tsa/statespace/sarimax.py:978: UserWarning: Non-invertible starting MA parameters found. Using zeros as starting parameters.\n",
                        "  warn('Non-invertible starting MA parameters found.'\n"
                    ]
                },
                {
                    "name": "stdout",
                    "output_type": "stream",
                    "text": [
                        "ARIMA(1, 1, 1) - AIC: 1941.4151715064918\n"
                    ]
                },
                {
                    "name": "stderr",
                    "output_type": "stream",
                    "text": [
                        "/home/vscode/.local/lib/python3.11/site-packages/statsmodels/base/model.py:607: ConvergenceWarning: Maximum Likelihood optimization failed to converge. Check mle_retvals\n",
                        "  warnings.warn(\"Maximum Likelihood optimization failed to \"\n",
                        "/home/vscode/.local/lib/python3.11/site-packages/statsmodels/tsa/base/tsa_model.py:473: ValueWarning: No frequency information was provided, so inferred frequency D will be used.\n",
                        "  self._init_dates(dates, freq)\n",
                        "/home/vscode/.local/lib/python3.11/site-packages/statsmodels/tsa/base/tsa_model.py:473: ValueWarning: No frequency information was provided, so inferred frequency D will be used.\n",
                        "  self._init_dates(dates, freq)\n",
                        "/home/vscode/.local/lib/python3.11/site-packages/statsmodels/tsa/base/tsa_model.py:473: ValueWarning: No frequency information was provided, so inferred frequency D will be used.\n",
                        "  self._init_dates(dates, freq)\n"
                    ]
                },
                {
                    "name": "stdout",
                    "output_type": "stream",
                    "text": [
                        "ARIMA(2, 1, 1) - AIC: 1829.336932288887\n"
                    ]
                },
                {
                    "name": "stderr",
                    "output_type": "stream",
                    "text": [
                        "/home/vscode/.local/lib/python3.11/site-packages/statsmodels/base/model.py:607: ConvergenceWarning: Maximum Likelihood optimization failed to converge. Check mle_retvals\n",
                        "  warnings.warn(\"Maximum Likelihood optimization failed to \"\n",
                        "/home/vscode/.local/lib/python3.11/site-packages/statsmodels/tsa/base/tsa_model.py:473: ValueWarning: No frequency information was provided, so inferred frequency D will be used.\n",
                        "  self._init_dates(dates, freq)\n",
                        "/home/vscode/.local/lib/python3.11/site-packages/statsmodels/tsa/base/tsa_model.py:473: ValueWarning: No frequency information was provided, so inferred frequency D will be used.\n",
                        "  self._init_dates(dates, freq)\n",
                        "/home/vscode/.local/lib/python3.11/site-packages/statsmodels/tsa/base/tsa_model.py:473: ValueWarning: No frequency information was provided, so inferred frequency D will be used.\n",
                        "  self._init_dates(dates, freq)\n",
                        "/home/vscode/.local/lib/python3.11/site-packages/statsmodels/tsa/statespace/sarimax.py:966: UserWarning: Non-stationary starting autoregressive parameters found. Using zeros as starting parameters.\n",
                        "  warn('Non-stationary starting autoregressive parameters'\n",
                        "/home/vscode/.local/lib/python3.11/site-packages/statsmodels/tsa/statespace/sarimax.py:978: UserWarning: Non-invertible starting MA parameters found. Using zeros as starting parameters.\n",
                        "  warn('Non-invertible starting MA parameters found.'\n"
                    ]
                },
                {
                    "name": "stdout",
                    "output_type": "stream",
                    "text": [
                        "ARIMA(1, 1, 2) - AIC: 1710.9177386953234\n",
                        "ARIMA(2, 1, 2) - AIC: 1710.2176513273862\n",
                        "Mejor modelo encontrado:\n",
                        "ARIMA(2, 1, 2) con AIC = 1710.2176513273862\n"
                    ]
                },
                {
                    "name": "stderr",
                    "output_type": "stream",
                    "text": [
                        "/home/vscode/.local/lib/python3.11/site-packages/statsmodels/base/model.py:607: ConvergenceWarning: Maximum Likelihood optimization failed to converge. Check mle_retvals\n",
                        "  warnings.warn(\"Maximum Likelihood optimization failed to \"\n"
                    ]
                }
            ],
            "source": [
                "#como tengo que utilizar estatsmodels para ARIMA buscamos cuales son los mejores valores \n",
                "param_list = [\n",
                "    (0,1,0),\n",
                "    (1,1,0),\n",
                "    (0,1,1),\n",
                "    (1,1,1),\n",
                "    (2,1,1),\n",
                "    (1,1,2),\n",
                "    (2,1,2)\n",
                "]\n",
                "best_aic = float('inf')\n",
                "best_order = None\n",
                "best_model = None\n",
                "for param in param_list:\n",
                "    try:\n",
                "        model = ARIMA(df_train['sales'], order=param)\n",
                "        model_fit = model.fit()\n",
                "        aic = model_fit.aic\n",
                "        print(f\"ARIMA{param} - AIC: {aic}\")\n",
                "        if aic < best_aic:\n",
                "            best_aic = aic\n",
                "            best_order = param\n",
                "            best_model = model_fit\n",
                "    except:\n",
                "        print(f\"ARIMA{param} falló\")\n",
                "print(\"Mejor modelo encontrado:\")\n",
                "print(f\"ARIMA{best_order} con AIC = {best_aic}\")"
            ]
        },
        {
            "cell_type": "code",
            "execution_count": 111,
            "metadata": {},
            "outputs": [
                {
                    "name": "stderr",
                    "output_type": "stream",
                    "text": [
                        "/home/vscode/.local/lib/python3.11/site-packages/statsmodels/tsa/base/tsa_model.py:473: ValueWarning: No frequency information was provided, so inferred frequency D will be used.\n",
                        "  self._init_dates(dates, freq)\n",
                        "/home/vscode/.local/lib/python3.11/site-packages/statsmodels/tsa/base/tsa_model.py:473: ValueWarning: No frequency information was provided, so inferred frequency D will be used.\n",
                        "  self._init_dates(dates, freq)\n",
                        "/home/vscode/.local/lib/python3.11/site-packages/statsmodels/tsa/base/tsa_model.py:473: ValueWarning: No frequency information was provided, so inferred frequency D will be used.\n",
                        "  self._init_dates(dates, freq)\n",
                        "/home/vscode/.local/lib/python3.11/site-packages/statsmodels/tsa/statespace/sarimax.py:966: UserWarning: Non-stationary starting autoregressive parameters found. Using zeros as starting parameters.\n",
                        "  warn('Non-stationary starting autoregressive parameters'\n",
                        "/home/vscode/.local/lib/python3.11/site-packages/statsmodels/tsa/statespace/sarimax.py:978: UserWarning: Non-invertible starting MA parameters found. Using zeros as starting parameters.\n",
                        "  warn('Non-invertible starting MA parameters found.'\n",
                        "/home/vscode/.local/lib/python3.11/site-packages/statsmodels/base/model.py:607: ConvergenceWarning: Maximum Likelihood optimization failed to converge. Check mle_retvals\n",
                        "  warnings.warn(\"Maximum Likelihood optimization failed to \"\n"
                    ]
                }
            ],
            "source": [
                "#hacemos el modelo con ARIMA\n",
                "model = ARIMA(df_train['sales'], order=(2,1,2))\n",
                "model_fit = model.fit()"
            ]
        },
        {
            "cell_type": "code",
            "execution_count": 112,
            "metadata": {},
            "outputs": [
                {
                    "name": "stdout",
                    "output_type": "stream",
                    "text": [
                        "                               SARIMAX Results                                \n",
                        "==============================================================================\n",
                        "Dep. Variable:                  sales   No. Observations:                  336\n",
                        "Model:                 ARIMA(2, 1, 2)   Log Likelihood                -850.109\n",
                        "Date:                Sun, 22 Jun 2025   AIC                           1710.218\n",
                        "Time:                        17:53:01   BIC                           1729.288\n",
                        "Sample:                    09-03-2022   HQIC                          1717.821\n",
                        "                         - 08-04-2023                                         \n",
                        "Covariance Type:                  opg                                         \n",
                        "==============================================================================\n",
                        "                 coef    std err          z      P>|z|      [0.025      0.975]\n",
                        "------------------------------------------------------------------------------\n",
                        "ar.L1          0.8944      0.015     59.214      0.000       0.865       0.924\n",
                        "ar.L2          0.1056      0.015      6.990      0.000       0.076       0.135\n",
                        "ma.L1         -1.9122      0.025    -75.592      0.000      -1.962      -1.863\n",
                        "ma.L2          0.9131      0.025     36.758      0.000       0.864       0.962\n",
                        "sigma2         9.0824      0.754     12.054      0.000       7.606      10.559\n",
                        "===================================================================================\n",
                        "Ljung-Box (L1) (Q):                   0.02   Jarque-Bera (JB):                 1.44\n",
                        "Prob(Q):                              0.89   Prob(JB):                         0.49\n",
                        "Heteroskedasticity (H):               0.88   Skew:                             0.08\n",
                        "Prob(H) (two-sided):                  0.49   Kurtosis:                         2.72\n",
                        "===================================================================================\n",
                        "\n",
                        "Warnings:\n",
                        "[1] Covariance matrix calculated using the outer product of gradients (complex-step).\n"
                    ]
                }
            ],
            "source": [
                "print(model_fit.summary())"
            ]
        },
        {
            "cell_type": "code",
            "execution_count": 115,
            "metadata": {},
            "outputs": [],
            "source": [
                "#hhacemos las predicciones\n",
                "forecast = model_fit.forecast(steps=30)\n",
                "forecast.index = df_test.index "
            ]
        },
        {
            "cell_type": "code",
            "execution_count": 117,
            "metadata": {},
            "outputs": [
                {
                    "data": {
                        "image/png": "[encoded data removed]",
                        "text/plain": [
                            "<Figure size 1200x600 with 1 Axes>"
                        ]
                    },
                    "metadata": {},
                    "output_type": "display_data"
                }
            ],
            "source": [
                "plt.figure(figsize=(12,6))\n",
                "plt.plot(df_train.index, df_train['sales'], label='Train')\n",
                "plt.plot(df_test.index, df_test['sales'], label='Test', color='green')\n",
                "plt.plot(forecast.index, forecast, label='Predicción', color='red')\n",
                "plt.legend()\n",
                "plt.title(\"ARIMA(2,1,2) Predicción\")\n",
                "plt.show()"
            ]
        },
        {
            "cell_type": "code",
            "execution_count": 119,
            "metadata": {},
            "outputs": [
                {
                    "name": "stdout",
                    "output_type": "stream",
                    "text": [
                        "MAE: 2.06\n",
                        "MSE: 6.66\n",
                        "RMSE: 2.58\n"
                    ]
                }
            ],
            "source": [
                "mae = mean_absolute_error(df_test['sales'], forecast)\n",
                "mse = mean_squared_error(df_test['sales'], forecast)\n",
                "rmse = np.sqrt(mse)\n",
                "\n",
                "print(f\"MAE: {mae:.2f}\")\n",
                "print(f\"MSE: {mse:.2f}\")\n",
                "print(f\"RMSE: {rmse:.2f}\")"
            ]
        },
        {
            "cell_type": "markdown",
            "metadata": {},
            "source": [
                "El MAE de 2.06 sobre una media de 525 está muy bien y el RMSE de 2.58 sobre el maximo de 1000 también está muy bien así uqe el modelo se ajusta bien a los datos"
            ]
        }
    ],
    "metadata": {
        "kernelspec": {
            "display_name": "Python 3",
            "language": "python",
            "name": "python3"
        },
        "language_info": {
            "codemirror_mode": {
                "name": "ipython",
                "version": 3
            },
            "file_extension": ".py",
            "mimetype": "text/x-python",
            "name": "python",
            "nbconvert_exporter": "python",
            "pygments_lexer": "ipython3",
            "version": "3.11.4"
        },
        "orig_nbformat": 4
    },
    "nbformat": 4,
    "nbformat_minor": 2
}
